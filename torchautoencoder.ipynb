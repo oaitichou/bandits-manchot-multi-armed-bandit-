{
 "cells": [
  {
   "cell_type": "markdown",
   "metadata": {
    "colab_type": "text",
    "id": "P9ADTK6qnMAK"
   },
   "source": [
    "# AutoEncoder with Pytorch"
   ]
  },
  {
   "cell_type": "code",
   "execution_count": 1,
   "metadata": {
    "colab": {},
    "colab_type": "code",
    "id": "FH4kqMzJ3cVS"
   },
   "outputs": [],
   "source": [
    "import numpy as np\n",
    "import pandas as pd\n",
    "import warnings\n",
    "warnings.filterwarnings('ignore')\n",
    "import torch\n",
    "from torch import nn\n",
    "from sklearn.model_selection import train_test_split\n",
    "import torch.nn.functional as F\n",
    "from tqdm import tqdm_notebook as tqdm"
   ]
  },
  {
   "cell_type": "code",
   "execution_count": 2,
   "metadata": {
    "colab": {},
    "colab_type": "code",
    "id": "OBEkFACEosIx"
   },
   "outputs": [],
   "source": [
    "data= pd.read_csv('C:/Users/Aitichou/Desktop/contextual_bandit/Forest_cov.txt', sep=\" \", header = None)\n",
    "data = pd.DataFrame(data)"
   ]
  },
  {
   "cell_type": "code",
   "execution_count": 3,
   "metadata": {
    "colab": {},
    "colab_type": "code",
    "id": "nn8z_fyJnMAZ"
   },
   "outputs": [],
   "source": [
    "# calcul du temps d'éxécution \n",
    "import time\n",
    "\n",
    "_start_time = time.time()\n",
    "\n",
    "def tic():\n",
    "    global _start_time \n",
    "    _start_time = time.time()\n",
    "\n",
    "def tac():\n",
    "    t_sec = round(time.time() - _start_time)\n",
    "    (t_min, t_sec) = divmod(t_sec,60)\n",
    "    (t_hour,t_min) = divmod(t_min,60) \n",
    "    print('Time passed: {}hour:{}min:{}sec'.format(t_hour,t_min,t_sec))"
   ]
  },
  {
   "cell_type": "code",
   "execution_count": 4,
   "metadata": {
    "colab": {
     "base_uri": "https://localhost:8080/",
     "height": 173
    },
    "colab_type": "code",
    "id": "dbMrTiUinMAs",
    "outputId": "e25ee02b-f6f3-462a-c654-2c99b296121b"
   },
   "outputs": [
    {
     "data": {
      "text/html": [
       "<div>\n",
       "<style scoped>\n",
       "    .dataframe tbody tr th:only-of-type {\n",
       "        vertical-align: middle;\n",
       "    }\n",
       "\n",
       "    .dataframe tbody tr th {\n",
       "        vertical-align: top;\n",
       "    }\n",
       "\n",
       "    .dataframe thead th {\n",
       "        text-align: right;\n",
       "    }\n",
       "</style>\n",
       "<table border=\"1\" class=\"dataframe\">\n",
       "  <thead>\n",
       "    <tr style=\"text-align: right;\">\n",
       "      <th></th>\n",
       "      <th>0</th>\n",
       "      <th>1</th>\n",
       "      <th>2</th>\n",
       "      <th>3</th>\n",
       "      <th>4</th>\n",
       "      <th>5</th>\n",
       "      <th>6</th>\n",
       "      <th>7</th>\n",
       "      <th>8</th>\n",
       "      <th>9</th>\n",
       "      <th>...</th>\n",
       "      <th>91</th>\n",
       "      <th>92</th>\n",
       "      <th>93</th>\n",
       "      <th>94</th>\n",
       "      <th>95</th>\n",
       "      <th>96</th>\n",
       "      <th>97</th>\n",
       "      <th>98</th>\n",
       "      <th>99</th>\n",
       "      <th>100</th>\n",
       "    </tr>\n",
       "  </thead>\n",
       "  <tbody>\n",
       "    <tr>\n",
       "      <th>0</th>\n",
       "      <td>0</td>\n",
       "      <td>1</td>\n",
       "      <td>0</td>\n",
       "      <td>0</td>\n",
       "      <td>0</td>\n",
       "      <td>0</td>\n",
       "      <td>0</td>\n",
       "      <td>0</td>\n",
       "      <td>0</td>\n",
       "      <td>1</td>\n",
       "      <td>...</td>\n",
       "      <td>0</td>\n",
       "      <td>0</td>\n",
       "      <td>0</td>\n",
       "      <td>0</td>\n",
       "      <td>1</td>\n",
       "      <td>0</td>\n",
       "      <td>0</td>\n",
       "      <td>0</td>\n",
       "      <td>0</td>\n",
       "      <td>0</td>\n",
       "    </tr>\n",
       "    <tr>\n",
       "      <th>1</th>\n",
       "      <td>0</td>\n",
       "      <td>1</td>\n",
       "      <td>0</td>\n",
       "      <td>0</td>\n",
       "      <td>0</td>\n",
       "      <td>0</td>\n",
       "      <td>1</td>\n",
       "      <td>0</td>\n",
       "      <td>0</td>\n",
       "      <td>0</td>\n",
       "      <td>...</td>\n",
       "      <td>0</td>\n",
       "      <td>0</td>\n",
       "      <td>0</td>\n",
       "      <td>0</td>\n",
       "      <td>1</td>\n",
       "      <td>0</td>\n",
       "      <td>0</td>\n",
       "      <td>0</td>\n",
       "      <td>0</td>\n",
       "      <td>0</td>\n",
       "    </tr>\n",
       "    <tr>\n",
       "      <th>2</th>\n",
       "      <td>0</td>\n",
       "      <td>1</td>\n",
       "      <td>0</td>\n",
       "      <td>0</td>\n",
       "      <td>0</td>\n",
       "      <td>0</td>\n",
       "      <td>0</td>\n",
       "      <td>1</td>\n",
       "      <td>0</td>\n",
       "      <td>0</td>\n",
       "      <td>...</td>\n",
       "      <td>0</td>\n",
       "      <td>0</td>\n",
       "      <td>0</td>\n",
       "      <td>0</td>\n",
       "      <td>1</td>\n",
       "      <td>0</td>\n",
       "      <td>0</td>\n",
       "      <td>0</td>\n",
       "      <td>0</td>\n",
       "      <td>0</td>\n",
       "    </tr>\n",
       "  </tbody>\n",
       "</table>\n",
       "<p>3 rows × 101 columns</p>\n",
       "</div>"
      ],
      "text/plain": [
       "   0    1    2    3    4    5    6    7    8    9    ...  91   92   93   94   \\\n",
       "0    0    1    0    0    0    0    0    0    0    1  ...    0    0    0    0   \n",
       "1    0    1    0    0    0    0    1    0    0    0  ...    0    0    0    0   \n",
       "2    0    1    0    0    0    0    0    1    0    0  ...    0    0    0    0   \n",
       "\n",
       "   95   96   97   98   99   100  \n",
       "0    1    0    0    0    0    0  \n",
       "1    1    0    0    0    0    0  \n",
       "2    1    0    0    0    0    0  \n",
       "\n",
       "[3 rows x 101 columns]"
      ]
     },
     "execution_count": 4,
     "metadata": {},
     "output_type": "execute_result"
    }
   ],
   "source": [
    "data.head(3)"
   ]
  },
  {
   "cell_type": "code",
   "execution_count": 5,
   "metadata": {
    "colab": {
     "base_uri": "https://localhost:8080/",
     "height": 35
    },
    "colab_type": "code",
    "id": "qqVoyPgTnMA1",
    "outputId": "d77b3036-34f0-4e4e-c10e-253d3cd2f62f"
   },
   "outputs": [
    {
     "data": {
      "text/plain": [
       "(581012, 101)"
      ]
     },
     "execution_count": 5,
     "metadata": {},
     "output_type": "execute_result"
    }
   ],
   "source": [
    "data.shape"
   ]
  },
  {
   "cell_type": "markdown",
   "metadata": {},
   "source": [
    "\n",
    "Un auto-encodeur est un réseau de neurones artificiels utilisé pour l'apprentissage non supervisé. L'objectif d'un auto-encodeur est d'apprendre une représentation (encodage) d'un ensemble de données, généralement dans le but de réduire la dimension de cet ensemble\n",
    "\n",
    "<img src=\"https://raw.githubusercontent.com/udacity/deep-learning/c6b46a0bfcb8d4afcb806174b3923d3ea89ca455/autoencoder/assets/autoencoder_1.png\" width=\"700\" height=\"700\" align=\"center\"/>\n"
   ]
  },
  {
   "cell_type": "code",
   "execution_count": 6,
   "metadata": {
    "colab": {
     "base_uri": "https://localhost:8080/",
     "height": 72
    },
    "colab_type": "code",
    "id": "lS1AOh1bnMA6",
    "outputId": "1e30a086-0ddd-4363-9e8a-d7b61da918a0"
   },
   "outputs": [
    {
     "data": {
      "application/vnd.jupyter.widget-view+json": {
       "model_id": "0fa969815f92492e805395910616c1ea",
       "version_major": 2,
       "version_minor": 0
      },
      "text/plain": [
       "HBox(children=(IntProgress(value=0, max=7), HTML(value='')))"
      ]
     },
     "metadata": {},
     "output_type": "display_data"
    },
    {
     "name": "stdout",
     "output_type": "stream",
     "text": [
      "\n"
     ]
    },
    {
     "data": {
      "application/vnd.jupyter.widget-view+json": {
       "model_id": "959545b2680b413eb96de633d78daccc",
       "version_major": 2,
       "version_minor": 0
      },
      "text/plain": [
       "HBox(children=(IntProgress(value=0, max=581012), HTML(value='')))"
      ]
     },
     "metadata": {},
     "output_type": "display_data"
    },
    {
     "name": "stdout",
     "output_type": "stream",
     "text": [
      "\n"
     ]
    },
    {
     "data": {
      "application/vnd.jupyter.widget-view+json": {
       "model_id": "621731b5f261415fb3097b68e74de72a",
       "version_major": 2,
       "version_minor": 0
      },
      "text/plain": [
       "HBox(children=(IntProgress(value=0, max=94), HTML(value='')))"
      ]
     },
     "metadata": {},
     "output_type": "display_data"
    },
    {
     "name": "stdout",
     "output_type": "stream",
     "text": [
      "\n"
     ]
    }
   ],
   "source": [
    "\n",
    "labels = data[[i for i in tqdm(range(94,101))]]\n",
    "labels = [labels.iloc[i].idxmax()-94 for i in tqdm(range(len(labels)))]\n",
    "\n",
    "data = data[[i for i in tqdm(range(94))]]\n",
    "data[94] = 1\n"
   ]
  },
  {
   "cell_type": "code",
   "execution_count": 7,
   "metadata": {
    "colab": {
     "base_uri": "https://localhost:8080/",
     "height": 35
    },
    "colab_type": "code",
    "id": "ZmVSkuBznMA_",
    "outputId": "6d6150c6-df2e-4ab8-c43d-83caedd95c8e"
   },
   "outputs": [
    {
     "data": {
      "text/plain": [
       "581012"
      ]
     },
     "execution_count": 7,
     "metadata": {},
     "output_type": "execute_result"
    }
   ],
   "source": [
    "labels[:10]\n",
    "len(labels)"
   ]
  },
  {
   "cell_type": "code",
   "execution_count": 8,
   "metadata": {
    "colab": {
     "base_uri": "https://localhost:8080/",
     "height": 35
    },
    "colab_type": "code",
    "id": "5FzRucshnMBG",
    "outputId": "b5481ed6-fffe-4c06-acec-2a90307f176c"
   },
   "outputs": [
    {
     "data": {
      "text/plain": [
       "(581012, 95)"
      ]
     },
     "execution_count": 8,
     "metadata": {},
     "output_type": "execute_result"
    }
   ],
   "source": [
    "data.shape"
   ]
  },
  {
   "cell_type": "code",
   "execution_count": 9,
   "metadata": {
    "colab": {},
    "colab_type": "code",
    "id": "bcHyDRyjnMBT"
   },
   "outputs": [],
   "source": [
    "data,  _, labels, _ = train_test_split(data, labels, test_size = 0)"
   ]
  },
  {
   "cell_type": "code",
   "execution_count": 10,
   "metadata": {
    "colab": {},
    "colab_type": "code",
    "id": "xMPhKBcgFBVU"
   },
   "outputs": [],
   "source": [
    "labels = pd.DataFrame(labels)\n",
    "labels.columns=[\"labels\"]"
   ]
  },
  {
   "cell_type": "code",
   "execution_count": 11,
   "metadata": {
    "colab": {
     "base_uri": "https://localhost:8080/",
     "height": 53
    },
    "colab_type": "code",
    "id": "NfWLfDS_nMBe",
    "outputId": "83f4ab66-bede-4c2a-cd72-cf079665a63b"
   },
   "outputs": [
    {
     "name": "stdout",
     "output_type": "stream",
     "text": [
      "(581012, 95)\n",
      "(581012, 1)\n"
     ]
    }
   ],
   "source": [
    "print(data.shape); print(labels.shape)"
   ]
  },
  {
   "cell_type": "code",
   "execution_count": 61,
   "metadata": {
    "colab": {},
    "colab_type": "code",
    "id": "esTULVQdnMBk"
   },
   "outputs": [],
   "source": [
    "data = torch.from_numpy(np.asarray(data))\n",
    "step = 128\n",
    "batches = [(data[i:i + step], labels[i:i + step]) for i in range(0, data.shape[0], step)]"
   ]
  },
  {
   "cell_type": "code",
   "execution_count": 82,
   "metadata": {
    "colab": {},
    "colab_type": "code",
    "id": "y2KKOIE8nMBt"
   },
   "outputs": [],
   "source": [
    "class AutoBlock(nn.Module):\n",
    "    \n",
    "    ACTIVATIONS = {\n",
    "        'linear': lambda x: x,\n",
    "        'relu': F.relu,\n",
    "        'tanh': torch.tanh,\n",
    "        'elu': F.elu,\n",
    "        'leakyrelu': torch.nn.LeakyReLU,\n",
    "        'sigmoid': torch.sigmoid,\n",
    "        'softmax': torch.nn.Softmax(dim=None)\n",
    "    }\n",
    "    \n",
    "    def __init__(self, insize, outsize, pdrop=0.2, activation='relu'):\n",
    "        \n",
    "        super(AutoBlock, self).__init__()\n",
    "        \n",
    "        self.linear = nn.Linear(insize, outsize)\n",
    "        self.drop = nn.Dropout(pdrop)\n",
    "        self.activation = AutoBlock.ACTIVATIONS[activation]\n",
    "        \n",
    "    def forward(self, x):\n",
    "        \n",
    "        return self.activation(self.drop(self.linear(x)))\n",
    "\n",
    "class Encoder(nn.Module):\n",
    "    def __init__(self, layers=[95, 60, 30]):\n",
    "        \n",
    "        super(Encoder, self).__init__()\n",
    "        \n",
    "        n_layers = 0\n",
    "        for insize, outsize in zip(layers[:-1], layers[1:]):\n",
    "            setattr(self, 'e%d' % n_layers, AutoBlock(insize[0], outsize[0], **outsize[1]))\n",
    "            n_layers += 1\n",
    "        self.n_layers = n_layers\n",
    "        \n",
    "    def forward(self, inp):\n",
    "        \n",
    "        x = inp\n",
    "        for i in range(self.n_layers):\n",
    "            x = getattr(self, 'e%d' % i)(x)\n",
    "        return x\n",
    "    \n",
    "    def encode_until(self, inp, idx):\n",
    "        x = inp\n",
    "        for i in range(idx):\n",
    "            x = getattr(self, 'e%d' % i)(x)\n",
    "        return x\n",
    "    \n",
    "class AutoEncoder(nn.Module):\n",
    "    \n",
    "    def __init__(self, encoding_layers=[(95,),(60,), (30,)], decoding_layers=[(30,),(60,),(95,)]):\n",
    "        \n",
    "        super(AutoEncoder, self).__init__()\n",
    "        \n",
    "        if encoding_layers[0][0] != decoding_layers[-1][0]:\n",
    "            raise ValueError('Input and output size must be the same')\n",
    "            \n",
    "        if decoding_layers[0][0] != encoding_layers[-1][0]:\n",
    "            raise ValueError('Encoding output shape does not match decoding input shape')\n",
    "        \n",
    "        self.encoder = Encoder(layers = encoding_layers)\n",
    "        self.decoder = Encoder(layers = decoding_layers)\n",
    "        \n",
    "    def forward(self, inp):\n",
    "        return self.decode(self.encode(inp))\n",
    "    \n",
    "    def encode(self, inp):\n",
    "        return self.encoder(inp)\n",
    "    \n",
    "    def decode(self, inp):\n",
    "        return self.decoder(inp)\n",
    "    "
   ]
  },
  {
   "cell_type": "code",
   "execution_count": 97,
   "metadata": {
    "colab": {},
    "colab_type": "code",
    "id": "InA0MJfunMBx"
   },
   "outputs": [],
   "source": [
    "def training_loop(dataframe, nepochs, model, optimizer, scheduler, batch_size=128, train_ratio=0.8, criterion=nn.MSELoss()):\n",
    "    \n",
    "    opt = optimizer(model.parameters())\n",
    "    sch = scheduler(opt)\n",
    "    \n",
    "    npdata = np.asarray(dataframe)\n",
    "    train_size = int(train_ratio * npdata.shape[0])\n",
    "    \n",
    "    train_data = torch.from_numpy(npdata[:train_size]).float()\n",
    "    val_data = torch.from_numpy(npdata[train_size:]).float()\n",
    "    \n",
    "    indexes = np.arange(train_data.shape[0])\n",
    "    \n",
    "    for epoch in range(nepochs):\n",
    "        print(\"Epoch %d / %d\" % (epoch + 1, nepochs))\n",
    "        np.random.shuffle(indexes)\n",
    "        batches = [train_data[indexes[i:i + batch_size]] for i in range(0, train_size, batch_size)]\n",
    "        pbar = tqdm(enumerate(batches), total=len(batches), unit='batch')\n",
    "        running_loss = 0\n",
    "        for i_batch, batch in pbar:\n",
    "            \n",
    "            opt.zero_grad()\n",
    "            xtrue = batch\n",
    "            if next(model.parameters()).is_cuda:\n",
    "              xtrue = xtrue.cuda()\n",
    "            xpred = model(xtrue)\n",
    "            loss = criterion(xpred, xtrue)\n",
    "            loss.backward()\n",
    "            opt.step()\n",
    "            \n",
    "            running_loss = (running_loss * i_batch + float(loss)) / (i_batch + 1)\n",
    "            pbar.set_description('Loss: %.10f -- AvgLoss: %.10f' % (float(loss), running_loss))\n",
    "\n",
    "        \n",
    "        with torch.no_grad():\n",
    "            model.eval()\n",
    "            val_loss = 0\n",
    "            val_acc = 0\n",
    "            for i_batch, batch in tqdm(enumerate([val_data[i:i + batch_size] for i in range(0, val_data.shape[0], batch_size)])):\n",
    "                xtrue = batch\n",
    "                xpred = model(xtrue)\n",
    "                val_loss = (val_loss * i_batch + float(criterion(xpred, xtrue))) / (i_batch + 1)\n",
    "                \n",
    "                xpred[xpred >= 0.7] = 1\n",
    "                xpred[xpred < 0.7] = 0\n",
    "                acc = (xpred[xpred == xtrue].nelement() / xpred.nelement()) * 100\n",
    "                val_acc = (val_acc * i_batch + float(acc)) / (i_batch + 1)\n",
    "               \n",
    "            model.train()\n",
    "        print('Validation loss: %.10f' % val_loss)\n",
    "        print('Validation acc: %.2f' % val_acc)\n",
    "        sch.step(val_acc)\n",
    "\n",
    "            \n",
    "    \n",
    "    "
   ]
  },
  {
   "cell_type": "code",
   "execution_count": 98,
   "metadata": {
    "colab": {},
    "colab_type": "code",
    "id": "_72g-7GhnMB1"
   },
   "outputs": [],
   "source": [
    "import torch.nn as nn\n",
    "import torch.optim as optim\n",
    "from torch.optim.lr_scheduler import ReduceLROnPlateau\n",
    "\n",
    "model = AutoEncoder(\n",
    "    encoding_layers = [\n",
    "        (95,),\n",
    "        (60, {'activation': 'relu', 'pdrop': 0.2}),\n",
    "        (30, {'activation': 'sigmoid', 'pdrop': 0})\n",
    "        \n",
    "    ],\n",
    "    decoding_layers = [\n",
    "        (30,),\n",
    "        (60, {'activation': 'relu', 'pdrop': 0}),\n",
    "        (95, {'activation': 'relu', 'pdrop': 0.2})\n",
    "    ]\n",
    ")\n",
    "optimizer = lambda params: optim.Adam(params, lr=0.0001, betas=(0.9, 0.999), eps=1e-08, weight_decay=0, amsgrad=False)\n",
    "scheduler = lambda opt: ReduceLROnPlateau(opt, mode='min',cooldown=4, patience=4, factor=0.5, min_lr=1e-8)"
   ]
  },
  {
   "cell_type": "code",
   "execution_count": 99,
   "metadata": {
    "colab": {
     "base_uri": "https://localhost:8080/",
     "height": 35
    },
    "colab_type": "code",
    "id": "LhxjncGgnMB6",
    "outputId": "b3948b2d-1f23-4be5-b0de-ce29cff5558c"
   },
   "outputs": [],
   "source": [
    "#model = model.cuda()\n",
    "#next(model.parameters()).is_cuda"
   ]
  },
  {
   "cell_type": "code",
   "execution_count": 100,
   "metadata": {
    "colab": {
     "base_uri": "https://localhost:8080/",
     "height": 4559
    },
    "colab_type": "code",
    "id": "d6xqS3LEFya6",
    "outputId": "1baf6213-38fa-45d8-863f-c5568d433315"
   },
   "outputs": [
    {
     "name": "stdout",
     "output_type": "stream",
     "text": [
      "Epoch 1 / 20\n"
     ]
    },
    {
     "data": {
      "application/vnd.jupyter.widget-view+json": {
       "model_id": "13fcdbcd9ff74a79b83ab03858e31ff3",
       "version_major": 2,
       "version_minor": 0
      },
      "text/plain": [
       "HBox(children=(IntProgress(value=0, max=3632), HTML(value='')))"
      ]
     },
     "metadata": {},
     "output_type": "display_data"
    },
    {
     "data": {
      "application/vnd.jupyter.widget-view+json": {
       "model_id": "c4b25b6e75ee456a8bf3e9ba51c8eaa5",
       "version_major": 2,
       "version_minor": 0
      },
      "text/plain": [
       "HBox(children=(IntProgress(value=1, bar_style='info', max=1), HTML(value='')))"
      ]
     },
     "metadata": {},
     "output_type": "display_data"
    },
    {
     "name": "stdout",
     "output_type": "stream",
     "text": [
      "Validation loss: 0.0582516131\n",
      "Validation acc: 90.48\n",
      "Epoch 2 / 20\n"
     ]
    },
    {
     "data": {
      "application/vnd.jupyter.widget-view+json": {
       "model_id": "cf2059ab4fe74eda95c650e339d843ac",
       "version_major": 2,
       "version_minor": 0
      },
      "text/plain": [
       "HBox(children=(IntProgress(value=0, max=3632), HTML(value='')))"
      ]
     },
     "metadata": {},
     "output_type": "display_data"
    },
    {
     "data": {
      "application/vnd.jupyter.widget-view+json": {
       "model_id": "cfaa72132cb248ea9be3c073a287a0ce",
       "version_major": 2,
       "version_minor": 0
      },
      "text/plain": [
       "HBox(children=(IntProgress(value=1, bar_style='info', max=1), HTML(value='')))"
      ]
     },
     "metadata": {},
     "output_type": "display_data"
    },
    {
     "name": "stdout",
     "output_type": "stream",
     "text": [
      "Validation loss: 0.0484080298\n",
      "Validation acc: 91.83\n",
      "Epoch 3 / 20\n"
     ]
    },
    {
     "data": {
      "application/vnd.jupyter.widget-view+json": {
       "model_id": "0754cc4230554d1885718e0d24cb01c2",
       "version_major": 2,
       "version_minor": 0
      },
      "text/plain": [
       "HBox(children=(IntProgress(value=0, max=3632), HTML(value='')))"
      ]
     },
     "metadata": {},
     "output_type": "display_data"
    },
    {
     "data": {
      "application/vnd.jupyter.widget-view+json": {
       "model_id": "d567289a41e444c0b90eda205d881fad",
       "version_major": 2,
       "version_minor": 0
      },
      "text/plain": [
       "HBox(children=(IntProgress(value=1, bar_style='info', max=1), HTML(value='')))"
      ]
     },
     "metadata": {},
     "output_type": "display_data"
    },
    {
     "name": "stdout",
     "output_type": "stream",
     "text": [
      "Validation loss: 0.0432753038\n",
      "Validation acc: 92.62\n",
      "Epoch 4 / 20\n"
     ]
    },
    {
     "data": {
      "application/vnd.jupyter.widget-view+json": {
       "model_id": "78ad85b51db847aca3690172c42492ac",
       "version_major": 2,
       "version_minor": 0
      },
      "text/plain": [
       "HBox(children=(IntProgress(value=0, max=3632), HTML(value='')))"
      ]
     },
     "metadata": {},
     "output_type": "display_data"
    },
    {
     "data": {
      "application/vnd.jupyter.widget-view+json": {
       "model_id": "9ceedd71e0c648808d634faad9095f63",
       "version_major": 2,
       "version_minor": 0
      },
      "text/plain": [
       "HBox(children=(IntProgress(value=1, bar_style='info', max=1), HTML(value='')))"
      ]
     },
     "metadata": {},
     "output_type": "display_data"
    },
    {
     "name": "stdout",
     "output_type": "stream",
     "text": [
      "Validation loss: 0.0408415029\n",
      "Validation acc: 93.11\n",
      "Epoch 5 / 20\n"
     ]
    },
    {
     "data": {
      "application/vnd.jupyter.widget-view+json": {
       "model_id": "abfe5a266e704d3f9b46f15fac249e7f",
       "version_major": 2,
       "version_minor": 0
      },
      "text/plain": [
       "HBox(children=(IntProgress(value=0, max=3632), HTML(value='')))"
      ]
     },
     "metadata": {},
     "output_type": "display_data"
    },
    {
     "data": {
      "application/vnd.jupyter.widget-view+json": {
       "model_id": "a68573bab9e94038b9fb1ee1366878bb",
       "version_major": 2,
       "version_minor": 0
      },
      "text/plain": [
       "HBox(children=(IntProgress(value=1, bar_style='info', max=1), HTML(value='')))"
      ]
     },
     "metadata": {},
     "output_type": "display_data"
    },
    {
     "name": "stdout",
     "output_type": "stream",
     "text": [
      "Validation loss: 0.0392788544\n",
      "Validation acc: 93.58\n",
      "Epoch 6 / 20\n"
     ]
    },
    {
     "data": {
      "application/vnd.jupyter.widget-view+json": {
       "model_id": "30b7c4ab29a34a85b6eac10b36393ab7",
       "version_major": 2,
       "version_minor": 0
      },
      "text/plain": [
       "HBox(children=(IntProgress(value=0, max=3632), HTML(value='')))"
      ]
     },
     "metadata": {},
     "output_type": "display_data"
    },
    {
     "data": {
      "application/vnd.jupyter.widget-view+json": {
       "model_id": "16a9fd12ecf0453b9690f050726631e9",
       "version_major": 2,
       "version_minor": 0
      },
      "text/plain": [
       "HBox(children=(IntProgress(value=1, bar_style='info', max=1), HTML(value='')))"
      ]
     },
     "metadata": {},
     "output_type": "display_data"
    },
    {
     "name": "stdout",
     "output_type": "stream",
     "text": [
      "Validation loss: 0.0382047844\n",
      "Validation acc: 93.93\n",
      "Epoch 7 / 20\n"
     ]
    },
    {
     "data": {
      "application/vnd.jupyter.widget-view+json": {
       "model_id": "2c11946cea4147c286edfa0f4771e569",
       "version_major": 2,
       "version_minor": 0
      },
      "text/plain": [
       "HBox(children=(IntProgress(value=0, max=3632), HTML(value='')))"
      ]
     },
     "metadata": {},
     "output_type": "display_data"
    },
    {
     "data": {
      "application/vnd.jupyter.widget-view+json": {
       "model_id": "9181d0abe5864fba99428ee00ef9232f",
       "version_major": 2,
       "version_minor": 0
      },
      "text/plain": [
       "HBox(children=(IntProgress(value=1, bar_style='info', max=1), HTML(value='')))"
      ]
     },
     "metadata": {},
     "output_type": "display_data"
    },
    {
     "name": "stdout",
     "output_type": "stream",
     "text": [
      "Validation loss: 0.0377776995\n",
      "Validation acc: 94.06\n",
      "Epoch 8 / 20\n"
     ]
    },
    {
     "data": {
      "application/vnd.jupyter.widget-view+json": {
       "model_id": "0df37a1e29a643ab89fbcf16a5c74897",
       "version_major": 2,
       "version_minor": 0
      },
      "text/plain": [
       "HBox(children=(IntProgress(value=0, max=3632), HTML(value='')))"
      ]
     },
     "metadata": {},
     "output_type": "display_data"
    },
    {
     "data": {
      "application/vnd.jupyter.widget-view+json": {
       "model_id": "0a5460a984cc46a28fc604d76dd0dc55",
       "version_major": 2,
       "version_minor": 0
      },
      "text/plain": [
       "HBox(children=(IntProgress(value=1, bar_style='info', max=1), HTML(value='')))"
      ]
     },
     "metadata": {},
     "output_type": "display_data"
    },
    {
     "name": "stdout",
     "output_type": "stream",
     "text": [
      "Validation loss: 0.0373802519\n",
      "Validation acc: 94.22\n",
      "Epoch 9 / 20\n"
     ]
    },
    {
     "data": {
      "application/vnd.jupyter.widget-view+json": {
       "model_id": "9757d0a82f8c4123bebca1acde2871d2",
       "version_major": 2,
       "version_minor": 0
      },
      "text/plain": [
       "HBox(children=(IntProgress(value=0, max=3632), HTML(value='')))"
      ]
     },
     "metadata": {},
     "output_type": "display_data"
    },
    {
     "data": {
      "application/vnd.jupyter.widget-view+json": {
       "model_id": "f027286befd14d6190cb9c95b3bce832",
       "version_major": 2,
       "version_minor": 0
      },
      "text/plain": [
       "HBox(children=(IntProgress(value=1, bar_style='info', max=1), HTML(value='')))"
      ]
     },
     "metadata": {},
     "output_type": "display_data"
    },
    {
     "name": "stdout",
     "output_type": "stream",
     "text": [
      "Validation loss: 0.0370323476\n",
      "Validation acc: 94.36\n",
      "Epoch 10 / 20\n"
     ]
    },
    {
     "data": {
      "application/vnd.jupyter.widget-view+json": {
       "model_id": "edd76368fd0245178b2449a5991b92d2",
       "version_major": 2,
       "version_minor": 0
      },
      "text/plain": [
       "HBox(children=(IntProgress(value=0, max=3632), HTML(value='')))"
      ]
     },
     "metadata": {},
     "output_type": "display_data"
    },
    {
     "data": {
      "application/vnd.jupyter.widget-view+json": {
       "model_id": "c6244ee492d24750b6a39b760aa99d3b",
       "version_major": 2,
       "version_minor": 0
      },
      "text/plain": [
       "HBox(children=(IntProgress(value=1, bar_style='info', max=1), HTML(value='')))"
      ]
     },
     "metadata": {},
     "output_type": "display_data"
    },
    {
     "name": "stdout",
     "output_type": "stream",
     "text": [
      "Validation loss: 0.0367863551\n",
      "Validation acc: 94.44\n",
      "Epoch 11 / 20\n"
     ]
    },
    {
     "data": {
      "application/vnd.jupyter.widget-view+json": {
       "model_id": "e81f6effd8794738ab493d175a98547c",
       "version_major": 2,
       "version_minor": 0
      },
      "text/plain": [
       "HBox(children=(IntProgress(value=0, max=3632), HTML(value='')))"
      ]
     },
     "metadata": {},
     "output_type": "display_data"
    },
    {
     "data": {
      "application/vnd.jupyter.widget-view+json": {
       "model_id": "93084489eb4945cb92d52623c48a6321",
       "version_major": 2,
       "version_minor": 0
      },
      "text/plain": [
       "HBox(children=(IntProgress(value=1, bar_style='info', max=1), HTML(value='')))"
      ]
     },
     "metadata": {},
     "output_type": "display_data"
    },
    {
     "name": "stdout",
     "output_type": "stream",
     "text": [
      "Validation loss: 0.0365364280\n",
      "Validation acc: 94.54\n",
      "Epoch 12 / 20\n"
     ]
    },
    {
     "data": {
      "application/vnd.jupyter.widget-view+json": {
       "model_id": "887cbb0fde264ba19c2e456d4a520676",
       "version_major": 2,
       "version_minor": 0
      },
      "text/plain": [
       "HBox(children=(IntProgress(value=0, max=3632), HTML(value='')))"
      ]
     },
     "metadata": {},
     "output_type": "display_data"
    },
    {
     "data": {
      "application/vnd.jupyter.widget-view+json": {
       "model_id": "9fd84d1ef2e34319aabad7958ad7d420",
       "version_major": 2,
       "version_minor": 0
      },
      "text/plain": [
       "HBox(children=(IntProgress(value=1, bar_style='info', max=1), HTML(value='')))"
      ]
     },
     "metadata": {},
     "output_type": "display_data"
    },
    {
     "name": "stdout",
     "output_type": "stream",
     "text": [
      "Validation loss: 0.0362710007\n",
      "Validation acc: 94.66\n",
      "Epoch 13 / 20\n"
     ]
    },
    {
     "data": {
      "application/vnd.jupyter.widget-view+json": {
       "model_id": "0c86c62941ed434b8b0652a9e783bdab",
       "version_major": 2,
       "version_minor": 0
      },
      "text/plain": [
       "HBox(children=(IntProgress(value=0, max=3632), HTML(value='')))"
      ]
     },
     "metadata": {},
     "output_type": "display_data"
    },
    {
     "data": {
      "application/vnd.jupyter.widget-view+json": {
       "model_id": "30455f43c16946aa8b8c9043bdf7679a",
       "version_major": 2,
       "version_minor": 0
      },
      "text/plain": [
       "HBox(children=(IntProgress(value=1, bar_style='info', max=1), HTML(value='')))"
      ]
     },
     "metadata": {},
     "output_type": "display_data"
    },
    {
     "name": "stdout",
     "output_type": "stream",
     "text": [
      "Validation loss: 0.0361250964\n",
      "Validation acc: 94.69\n",
      "Epoch 14 / 20\n"
     ]
    },
    {
     "data": {
      "application/vnd.jupyter.widget-view+json": {
       "model_id": "2f328fdf43704c18bae1d8e6ce2e48f5",
       "version_major": 2,
       "version_minor": 0
      },
      "text/plain": [
       "HBox(children=(IntProgress(value=0, max=3632), HTML(value='')))"
      ]
     },
     "metadata": {},
     "output_type": "display_data"
    },
    {
     "data": {
      "application/vnd.jupyter.widget-view+json": {
       "model_id": "4e351227841047e79f7bd02d3c381c5b",
       "version_major": 2,
       "version_minor": 0
      },
      "text/plain": [
       "HBox(children=(IntProgress(value=1, bar_style='info', max=1), HTML(value='')))"
      ]
     },
     "metadata": {},
     "output_type": "display_data"
    },
    {
     "name": "stdout",
     "output_type": "stream",
     "text": [
      "Validation loss: 0.0359380125\n",
      "Validation acc: 94.77\n",
      "Epoch 15 / 20\n"
     ]
    },
    {
     "data": {
      "application/vnd.jupyter.widget-view+json": {
       "model_id": "db133c6d017746868fa0deec5a94851c",
       "version_major": 2,
       "version_minor": 0
      },
      "text/plain": [
       "HBox(children=(IntProgress(value=0, max=3632), HTML(value='')))"
      ]
     },
     "metadata": {},
     "output_type": "display_data"
    },
    {
     "data": {
      "application/vnd.jupyter.widget-view+json": {
       "model_id": "5b2f59dd189b4e5db3a7b0ce592a06d5",
       "version_major": 2,
       "version_minor": 0
      },
      "text/plain": [
       "HBox(children=(IntProgress(value=1, bar_style='info', max=1), HTML(value='')))"
      ]
     },
     "metadata": {},
     "output_type": "display_data"
    },
    {
     "name": "stdout",
     "output_type": "stream",
     "text": [
      "Validation loss: 0.0357825395\n",
      "Validation acc: 94.82\n",
      "Epoch 16 / 20\n"
     ]
    },
    {
     "data": {
      "application/vnd.jupyter.widget-view+json": {
       "model_id": "a97e71941cad48e1b41a9a7eaeaebbba",
       "version_major": 2,
       "version_minor": 0
      },
      "text/plain": [
       "HBox(children=(IntProgress(value=0, max=3632), HTML(value='')))"
      ]
     },
     "metadata": {},
     "output_type": "display_data"
    },
    {
     "data": {
      "application/vnd.jupyter.widget-view+json": {
       "model_id": "113ae06601014eea847734a1e9a1878a",
       "version_major": 2,
       "version_minor": 0
      },
      "text/plain": [
       "HBox(children=(IntProgress(value=1, bar_style='info', max=1), HTML(value='')))"
      ]
     },
     "metadata": {},
     "output_type": "display_data"
    },
    {
     "name": "stdout",
     "output_type": "stream",
     "text": [
      "Validation loss: 0.0356444189\n",
      "Validation acc: 94.89\n",
      "Epoch 17 / 20\n"
     ]
    },
    {
     "data": {
      "application/vnd.jupyter.widget-view+json": {
       "model_id": "77f915e3caba4a7baa5f7ba46e0539ce",
       "version_major": 2,
       "version_minor": 0
      },
      "text/plain": [
       "HBox(children=(IntProgress(value=0, max=3632), HTML(value='')))"
      ]
     },
     "metadata": {},
     "output_type": "display_data"
    },
    {
     "data": {
      "application/vnd.jupyter.widget-view+json": {
       "model_id": "b2724a6828974d59a6abfa5adfffd61b",
       "version_major": 2,
       "version_minor": 0
      },
      "text/plain": [
       "HBox(children=(IntProgress(value=1, bar_style='info', max=1), HTML(value='')))"
      ]
     },
     "metadata": {},
     "output_type": "display_data"
    },
    {
     "name": "stdout",
     "output_type": "stream",
     "text": [
      "Validation loss: 0.0355648690\n",
      "Validation acc: 94.92\n",
      "Epoch 18 / 20\n"
     ]
    },
    {
     "data": {
      "application/vnd.jupyter.widget-view+json": {
       "model_id": "45027dd9186b45db865c7b6d6ce2ae78",
       "version_major": 2,
       "version_minor": 0
      },
      "text/plain": [
       "HBox(children=(IntProgress(value=0, max=3632), HTML(value='')))"
      ]
     },
     "metadata": {},
     "output_type": "display_data"
    },
    {
     "data": {
      "application/vnd.jupyter.widget-view+json": {
       "model_id": "9b09a5d301bf4891ab12a26d349b8baa",
       "version_major": 2,
       "version_minor": 0
      },
      "text/plain": [
       "HBox(children=(IntProgress(value=1, bar_style='info', max=1), HTML(value='')))"
      ]
     },
     "metadata": {},
     "output_type": "display_data"
    },
    {
     "name": "stdout",
     "output_type": "stream",
     "text": [
      "Validation loss: 0.0354338394\n",
      "Validation acc: 94.97\n",
      "Epoch 19 / 20\n"
     ]
    },
    {
     "data": {
      "application/vnd.jupyter.widget-view+json": {
       "model_id": "906df223a8254c769108444b2bef8366",
       "version_major": 2,
       "version_minor": 0
      },
      "text/plain": [
       "HBox(children=(IntProgress(value=0, max=3632), HTML(value='')))"
      ]
     },
     "metadata": {},
     "output_type": "display_data"
    },
    {
     "data": {
      "application/vnd.jupyter.widget-view+json": {
       "model_id": "7572b6e27f954122820f40502f2dc020",
       "version_major": 2,
       "version_minor": 0
      },
      "text/plain": [
       "HBox(children=(IntProgress(value=1, bar_style='info', max=1), HTML(value='')))"
      ]
     },
     "metadata": {},
     "output_type": "display_data"
    },
    {
     "name": "stdout",
     "output_type": "stream",
     "text": [
      "Validation loss: 0.0353856995\n",
      "Validation acc: 94.99\n",
      "Epoch 20 / 20\n"
     ]
    },
    {
     "data": {
      "application/vnd.jupyter.widget-view+json": {
       "model_id": "bd2d235555524787ad029bee4d05f4ca",
       "version_major": 2,
       "version_minor": 0
      },
      "text/plain": [
       "HBox(children=(IntProgress(value=0, max=3632), HTML(value='')))"
      ]
     },
     "metadata": {},
     "output_type": "display_data"
    },
    {
     "data": {
      "application/vnd.jupyter.widget-view+json": {
       "model_id": "926c5f3775544f69a8a7723988e3dbdf",
       "version_major": 2,
       "version_minor": 0
      },
      "text/plain": [
       "HBox(children=(IntProgress(value=1, bar_style='info', max=1), HTML(value='')))"
      ]
     },
     "metadata": {},
     "output_type": "display_data"
    },
    {
     "name": "stdout",
     "output_type": "stream",
     "text": [
      "Validation loss: 0.0353018380\n",
      "Validation acc: 95.02\n"
     ]
    }
   ],
   "source": [
    "training_loop(data, 20, model, optimizer, scheduler, criterion = nn.MSELoss() )"
   ]
  },
  {
   "cell_type": "markdown",
   "metadata": {},
   "source": [
    "## Encodage des données"
   ]
  },
  {
   "cell_type": "code",
   "execution_count": 101,
   "metadata": {
    "colab": {
     "base_uri": "https://localhost:8080/",
     "height": 562
    },
    "colab_type": "code",
    "id": "5prdyNPFnMCI",
    "outputId": "64d77738-ed95-44dc-a0fa-536b9a1b3b18"
   },
   "outputs": [
    {
     "data": {
      "text/plain": [
       "AutoEncoder(\n",
       "  (encoder): Encoder(\n",
       "    (e0): AutoBlock(\n",
       "      (linear): Linear(in_features=95, out_features=60, bias=True)\n",
       "      (drop): Dropout(p=0.2)\n",
       "    )\n",
       "    (e1): AutoBlock(\n",
       "      (linear): Linear(in_features=60, out_features=30, bias=True)\n",
       "      (drop): Dropout(p=0)\n",
       "    )\n",
       "  )\n",
       "  (decoder): Encoder(\n",
       "    (e0): AutoBlock(\n",
       "      (linear): Linear(in_features=30, out_features=60, bias=True)\n",
       "      (drop): Dropout(p=0)\n",
       "    )\n",
       "    (e1): AutoBlock(\n",
       "      (linear): Linear(in_features=60, out_features=95, bias=True)\n",
       "      (drop): Dropout(p=0.2)\n",
       "    )\n",
       "  )\n",
       ")"
      ]
     },
     "execution_count": 101,
     "metadata": {},
     "output_type": "execute_result"
    }
   ],
   "source": [
    "model.eval()\n",
    "encoded_data = model.encode(data.float())\n",
    "model.train()"
   ]
  },
  {
   "cell_type": "code",
   "execution_count": 102,
   "metadata": {
    "colab": {
     "base_uri": "https://localhost:8080/",
     "height": 35
    },
    "colab_type": "code",
    "id": "CIrp0pmGnMCj",
    "outputId": "90c5a191-346d-4ad6-f84f-0e78997c4053"
   },
   "outputs": [
    {
     "data": {
      "text/plain": [
       "tensor([[0.1011, 0.2084, 0.3010,  ..., 0.1170, 0.6535, 0.3910],\n",
       "        [0.9054, 0.5412, 0.7893,  ..., 0.4202, 0.6394, 0.5902],\n",
       "        [0.2647, 0.4388, 0.4572,  ..., 0.4817, 0.1893, 0.7084],\n",
       "        ...,\n",
       "        [0.4508, 0.4588, 0.9132,  ..., 0.6692, 0.1601, 0.6828],\n",
       "        [0.2751, 0.1743, 0.1757,  ..., 0.3442, 0.7506, 0.4767],\n",
       "        [0.5727, 0.3510, 0.7768,  ..., 0.3717, 0.4938, 0.5927]],\n",
       "       grad_fn=<SigmoidBackward>)"
      ]
     },
     "execution_count": 102,
     "metadata": {},
     "output_type": "execute_result"
    }
   ],
   "source": [
    "encoded_data"
   ]
  },
  {
   "cell_type": "code",
   "execution_count": 103,
   "metadata": {
    "colab": {},
    "colab_type": "code",
    "id": "hVyagFPQmD2O"
   },
   "outputs": [
    {
     "data": {
      "text/html": [
       "<div>\n",
       "<style scoped>\n",
       "    .dataframe tbody tr th:only-of-type {\n",
       "        vertical-align: middle;\n",
       "    }\n",
       "\n",
       "    .dataframe tbody tr th {\n",
       "        vertical-align: top;\n",
       "    }\n",
       "\n",
       "    .dataframe thead th {\n",
       "        text-align: right;\n",
       "    }\n",
       "</style>\n",
       "<table border=\"1\" class=\"dataframe\">\n",
       "  <thead>\n",
       "    <tr style=\"text-align: right;\">\n",
       "      <th></th>\n",
       "    </tr>\n",
       "  </thead>\n",
       "  <tbody>\n",
       "  </tbody>\n",
       "</table>\n",
       "</div>"
      ],
      "text/plain": [
       "Empty DataFrame\n",
       "Columns: []\n",
       "Index: []"
      ]
     },
     "execution_count": 103,
     "metadata": {},
     "output_type": "execute_result"
    }
   ],
   "source": [
    "arr = encoded_data.data.cpu().numpy()\n",
    "# write CSV\n",
    "pd.DataFrame(np.savetxt('encodedata.csv',arr, delimiter=',',fmt='%1.4e'))"
   ]
  },
  {
   "cell_type": "code",
   "execution_count": 104,
   "metadata": {
    "colab": {
     "base_uri": "https://localhost:8080/",
     "height": 316
    },
    "colab_type": "code",
    "id": "L0gLlzWCr6bp",
    "outputId": "791b4b52-bf03-47d5-a793-fbe23adb86a1"
   },
   "outputs": [],
   "source": [
    "encoded_cov = pd.read_csv('C:/Users/Aitichou/Desktop/auto_encoder/encodedata.csv', sep=\",\", header = None)"
   ]
  },
  {
   "cell_type": "code",
   "execution_count": 105,
   "metadata": {},
   "outputs": [
    {
     "data": {
      "text/html": [
       "<div>\n",
       "<style scoped>\n",
       "    .dataframe tbody tr th:only-of-type {\n",
       "        vertical-align: middle;\n",
       "    }\n",
       "\n",
       "    .dataframe tbody tr th {\n",
       "        vertical-align: top;\n",
       "    }\n",
       "\n",
       "    .dataframe thead th {\n",
       "        text-align: right;\n",
       "    }\n",
       "</style>\n",
       "<table border=\"1\" class=\"dataframe\">\n",
       "  <thead>\n",
       "    <tr style=\"text-align: right;\">\n",
       "      <th></th>\n",
       "      <th>0</th>\n",
       "      <th>1</th>\n",
       "      <th>2</th>\n",
       "      <th>3</th>\n",
       "      <th>4</th>\n",
       "      <th>5</th>\n",
       "      <th>6</th>\n",
       "      <th>7</th>\n",
       "      <th>8</th>\n",
       "      <th>9</th>\n",
       "      <th>...</th>\n",
       "      <th>20</th>\n",
       "      <th>21</th>\n",
       "      <th>22</th>\n",
       "      <th>23</th>\n",
       "      <th>24</th>\n",
       "      <th>25</th>\n",
       "      <th>26</th>\n",
       "      <th>27</th>\n",
       "      <th>28</th>\n",
       "      <th>29</th>\n",
       "    </tr>\n",
       "  </thead>\n",
       "  <tbody>\n",
       "    <tr>\n",
       "      <th>0</th>\n",
       "      <td>0.10110</td>\n",
       "      <td>0.20840</td>\n",
       "      <td>0.30100</td>\n",
       "      <td>0.272740</td>\n",
       "      <td>0.944000</td>\n",
       "      <td>0.72481</td>\n",
       "      <td>0.55207</td>\n",
       "      <td>0.27104</td>\n",
       "      <td>0.75414</td>\n",
       "      <td>0.73615</td>\n",
       "      <td>...</td>\n",
       "      <td>0.35619</td>\n",
       "      <td>0.49834</td>\n",
       "      <td>0.88032</td>\n",
       "      <td>0.61130</td>\n",
       "      <td>0.33137</td>\n",
       "      <td>0.89813</td>\n",
       "      <td>0.12584</td>\n",
       "      <td>0.11701</td>\n",
       "      <td>0.65347</td>\n",
       "      <td>0.39097</td>\n",
       "    </tr>\n",
       "    <tr>\n",
       "      <th>1</th>\n",
       "      <td>0.90539</td>\n",
       "      <td>0.54122</td>\n",
       "      <td>0.78925</td>\n",
       "      <td>0.285160</td>\n",
       "      <td>0.104320</td>\n",
       "      <td>0.36006</td>\n",
       "      <td>0.37076</td>\n",
       "      <td>0.39752</td>\n",
       "      <td>0.37923</td>\n",
       "      <td>0.13958</td>\n",
       "      <td>...</td>\n",
       "      <td>0.76342</td>\n",
       "      <td>0.47186</td>\n",
       "      <td>0.20421</td>\n",
       "      <td>0.74600</td>\n",
       "      <td>0.24523</td>\n",
       "      <td>0.31252</td>\n",
       "      <td>0.47505</td>\n",
       "      <td>0.42016</td>\n",
       "      <td>0.63939</td>\n",
       "      <td>0.59022</td>\n",
       "    </tr>\n",
       "    <tr>\n",
       "      <th>2</th>\n",
       "      <td>0.26470</td>\n",
       "      <td>0.43878</td>\n",
       "      <td>0.45722</td>\n",
       "      <td>0.375700</td>\n",
       "      <td>0.936200</td>\n",
       "      <td>0.36738</td>\n",
       "      <td>0.91309</td>\n",
       "      <td>0.70503</td>\n",
       "      <td>0.69002</td>\n",
       "      <td>0.89619</td>\n",
       "      <td>...</td>\n",
       "      <td>0.33927</td>\n",
       "      <td>0.53375</td>\n",
       "      <td>0.72473</td>\n",
       "      <td>0.25437</td>\n",
       "      <td>0.57744</td>\n",
       "      <td>0.62609</td>\n",
       "      <td>0.41275</td>\n",
       "      <td>0.48173</td>\n",
       "      <td>0.18927</td>\n",
       "      <td>0.70841</td>\n",
       "    </tr>\n",
       "    <tr>\n",
       "      <th>3</th>\n",
       "      <td>0.28563</td>\n",
       "      <td>0.79135</td>\n",
       "      <td>0.79968</td>\n",
       "      <td>0.249590</td>\n",
       "      <td>0.298640</td>\n",
       "      <td>0.39132</td>\n",
       "      <td>0.55850</td>\n",
       "      <td>0.86992</td>\n",
       "      <td>0.69891</td>\n",
       "      <td>0.63053</td>\n",
       "      <td>...</td>\n",
       "      <td>0.20174</td>\n",
       "      <td>0.91439</td>\n",
       "      <td>0.30777</td>\n",
       "      <td>0.16380</td>\n",
       "      <td>0.27347</td>\n",
       "      <td>0.65232</td>\n",
       "      <td>0.87682</td>\n",
       "      <td>0.51585</td>\n",
       "      <td>0.11286</td>\n",
       "      <td>0.52895</td>\n",
       "    </tr>\n",
       "    <tr>\n",
       "      <th>4</th>\n",
       "      <td>0.12645</td>\n",
       "      <td>0.32377</td>\n",
       "      <td>0.88293</td>\n",
       "      <td>0.031443</td>\n",
       "      <td>0.084051</td>\n",
       "      <td>0.57219</td>\n",
       "      <td>0.78280</td>\n",
       "      <td>0.77925</td>\n",
       "      <td>0.65761</td>\n",
       "      <td>0.34458</td>\n",
       "      <td>...</td>\n",
       "      <td>0.17660</td>\n",
       "      <td>0.83645</td>\n",
       "      <td>0.39714</td>\n",
       "      <td>0.66414</td>\n",
       "      <td>0.52654</td>\n",
       "      <td>0.63440</td>\n",
       "      <td>0.62432</td>\n",
       "      <td>0.39543</td>\n",
       "      <td>0.18541</td>\n",
       "      <td>0.49022</td>\n",
       "    </tr>\n",
       "  </tbody>\n",
       "</table>\n",
       "<p>5 rows × 30 columns</p>\n",
       "</div>"
      ],
      "text/plain": [
       "        0        1        2         3         4        5        6        7   \\\n",
       "0  0.10110  0.20840  0.30100  0.272740  0.944000  0.72481  0.55207  0.27104   \n",
       "1  0.90539  0.54122  0.78925  0.285160  0.104320  0.36006  0.37076  0.39752   \n",
       "2  0.26470  0.43878  0.45722  0.375700  0.936200  0.36738  0.91309  0.70503   \n",
       "3  0.28563  0.79135  0.79968  0.249590  0.298640  0.39132  0.55850  0.86992   \n",
       "4  0.12645  0.32377  0.88293  0.031443  0.084051  0.57219  0.78280  0.77925   \n",
       "\n",
       "        8        9   ...       20       21       22       23       24  \\\n",
       "0  0.75414  0.73615  ...  0.35619  0.49834  0.88032  0.61130  0.33137   \n",
       "1  0.37923  0.13958  ...  0.76342  0.47186  0.20421  0.74600  0.24523   \n",
       "2  0.69002  0.89619  ...  0.33927  0.53375  0.72473  0.25437  0.57744   \n",
       "3  0.69891  0.63053  ...  0.20174  0.91439  0.30777  0.16380  0.27347   \n",
       "4  0.65761  0.34458  ...  0.17660  0.83645  0.39714  0.66414  0.52654   \n",
       "\n",
       "        25       26       27       28       29  \n",
       "0  0.89813  0.12584  0.11701  0.65347  0.39097  \n",
       "1  0.31252  0.47505  0.42016  0.63939  0.59022  \n",
       "2  0.62609  0.41275  0.48173  0.18927  0.70841  \n",
       "3  0.65232  0.87682  0.51585  0.11286  0.52895  \n",
       "4  0.63440  0.62432  0.39543  0.18541  0.49022  \n",
       "\n",
       "[5 rows x 30 columns]"
      ]
     },
     "execution_count": 105,
     "metadata": {},
     "output_type": "execute_result"
    }
   ],
   "source": [
    "encoded_cov.head(5)"
   ]
  },
  {
   "cell_type": "code",
   "execution_count": 106,
   "metadata": {
    "colab": {
     "base_uri": "https://localhost:8080/",
     "height": 171
    },
    "colab_type": "code",
    "id": "Gb7qTmf_6u3g",
    "outputId": "33d2104a-b6d9-4112-c1f0-95c596b75efc"
   },
   "outputs": [
    {
     "data": {
      "text/plain": [
       "(581012, 30)"
      ]
     },
     "execution_count": 106,
     "metadata": {},
     "output_type": "execute_result"
    }
   ],
   "source": [
    "encoded_cov.shape"
   ]
  },
  {
   "cell_type": "code",
   "execution_count": 107,
   "metadata": {},
   "outputs": [],
   "source": [
    "encod_cov_lab= pd.concat([encoded_cov, labels], axis = 1)"
   ]
  },
  {
   "cell_type": "code",
   "execution_count": 108,
   "metadata": {},
   "outputs": [],
   "source": [
    "encod_cov_lab.to_csv('encod_cov_lab.csv',sep=';', encoding='utf-8')\n"
   ]
  },
  {
   "cell_type": "code",
   "execution_count": 109,
   "metadata": {},
   "outputs": [
    {
     "data": {
      "text/plain": [
       "(581012, 31)"
      ]
     },
     "execution_count": 109,
     "metadata": {},
     "output_type": "execute_result"
    }
   ],
   "source": [
    "encod_cov_lab.shape"
   ]
  },
  {
   "cell_type": "code",
   "execution_count": 110,
   "metadata": {},
   "outputs": [
    {
     "data": {
      "text/html": [
       "<div>\n",
       "<style scoped>\n",
       "    .dataframe tbody tr th:only-of-type {\n",
       "        vertical-align: middle;\n",
       "    }\n",
       "\n",
       "    .dataframe tbody tr th {\n",
       "        vertical-align: top;\n",
       "    }\n",
       "\n",
       "    .dataframe thead th {\n",
       "        text-align: right;\n",
       "    }\n",
       "</style>\n",
       "<table border=\"1\" class=\"dataframe\">\n",
       "  <thead>\n",
       "    <tr style=\"text-align: right;\">\n",
       "      <th></th>\n",
       "      <th>0</th>\n",
       "      <th>1</th>\n",
       "      <th>2</th>\n",
       "      <th>3</th>\n",
       "      <th>4</th>\n",
       "      <th>5</th>\n",
       "      <th>6</th>\n",
       "      <th>7</th>\n",
       "      <th>8</th>\n",
       "      <th>9</th>\n",
       "      <th>...</th>\n",
       "      <th>21</th>\n",
       "      <th>22</th>\n",
       "      <th>23</th>\n",
       "      <th>24</th>\n",
       "      <th>25</th>\n",
       "      <th>26</th>\n",
       "      <th>27</th>\n",
       "      <th>28</th>\n",
       "      <th>29</th>\n",
       "      <th>labels</th>\n",
       "    </tr>\n",
       "  </thead>\n",
       "  <tbody>\n",
       "    <tr>\n",
       "      <th>0</th>\n",
       "      <td>0.10110</td>\n",
       "      <td>0.20840</td>\n",
       "      <td>0.30100</td>\n",
       "      <td>0.272740</td>\n",
       "      <td>0.944000</td>\n",
       "      <td>0.72481</td>\n",
       "      <td>0.55207</td>\n",
       "      <td>0.27104</td>\n",
       "      <td>0.75414</td>\n",
       "      <td>0.73615</td>\n",
       "      <td>...</td>\n",
       "      <td>0.49834</td>\n",
       "      <td>0.88032</td>\n",
       "      <td>0.61130</td>\n",
       "      <td>0.33137</td>\n",
       "      <td>0.89813</td>\n",
       "      <td>0.12584</td>\n",
       "      <td>0.11701</td>\n",
       "      <td>0.65347</td>\n",
       "      <td>0.39097</td>\n",
       "      <td>1</td>\n",
       "    </tr>\n",
       "    <tr>\n",
       "      <th>1</th>\n",
       "      <td>0.90539</td>\n",
       "      <td>0.54122</td>\n",
       "      <td>0.78925</td>\n",
       "      <td>0.285160</td>\n",
       "      <td>0.104320</td>\n",
       "      <td>0.36006</td>\n",
       "      <td>0.37076</td>\n",
       "      <td>0.39752</td>\n",
       "      <td>0.37923</td>\n",
       "      <td>0.13958</td>\n",
       "      <td>...</td>\n",
       "      <td>0.47186</td>\n",
       "      <td>0.20421</td>\n",
       "      <td>0.74600</td>\n",
       "      <td>0.24523</td>\n",
       "      <td>0.31252</td>\n",
       "      <td>0.47505</td>\n",
       "      <td>0.42016</td>\n",
       "      <td>0.63939</td>\n",
       "      <td>0.59022</td>\n",
       "      <td>1</td>\n",
       "    </tr>\n",
       "    <tr>\n",
       "      <th>2</th>\n",
       "      <td>0.26470</td>\n",
       "      <td>0.43878</td>\n",
       "      <td>0.45722</td>\n",
       "      <td>0.375700</td>\n",
       "      <td>0.936200</td>\n",
       "      <td>0.36738</td>\n",
       "      <td>0.91309</td>\n",
       "      <td>0.70503</td>\n",
       "      <td>0.69002</td>\n",
       "      <td>0.89619</td>\n",
       "      <td>...</td>\n",
       "      <td>0.53375</td>\n",
       "      <td>0.72473</td>\n",
       "      <td>0.25437</td>\n",
       "      <td>0.57744</td>\n",
       "      <td>0.62609</td>\n",
       "      <td>0.41275</td>\n",
       "      <td>0.48173</td>\n",
       "      <td>0.18927</td>\n",
       "      <td>0.70841</td>\n",
       "      <td>0</td>\n",
       "    </tr>\n",
       "    <tr>\n",
       "      <th>3</th>\n",
       "      <td>0.28563</td>\n",
       "      <td>0.79135</td>\n",
       "      <td>0.79968</td>\n",
       "      <td>0.249590</td>\n",
       "      <td>0.298640</td>\n",
       "      <td>0.39132</td>\n",
       "      <td>0.55850</td>\n",
       "      <td>0.86992</td>\n",
       "      <td>0.69891</td>\n",
       "      <td>0.63053</td>\n",
       "      <td>...</td>\n",
       "      <td>0.91439</td>\n",
       "      <td>0.30777</td>\n",
       "      <td>0.16380</td>\n",
       "      <td>0.27347</td>\n",
       "      <td>0.65232</td>\n",
       "      <td>0.87682</td>\n",
       "      <td>0.51585</td>\n",
       "      <td>0.11286</td>\n",
       "      <td>0.52895</td>\n",
       "      <td>0</td>\n",
       "    </tr>\n",
       "    <tr>\n",
       "      <th>4</th>\n",
       "      <td>0.12645</td>\n",
       "      <td>0.32377</td>\n",
       "      <td>0.88293</td>\n",
       "      <td>0.031443</td>\n",
       "      <td>0.084051</td>\n",
       "      <td>0.57219</td>\n",
       "      <td>0.78280</td>\n",
       "      <td>0.77925</td>\n",
       "      <td>0.65761</td>\n",
       "      <td>0.34458</td>\n",
       "      <td>...</td>\n",
       "      <td>0.83645</td>\n",
       "      <td>0.39714</td>\n",
       "      <td>0.66414</td>\n",
       "      <td>0.52654</td>\n",
       "      <td>0.63440</td>\n",
       "      <td>0.62432</td>\n",
       "      <td>0.39543</td>\n",
       "      <td>0.18541</td>\n",
       "      <td>0.49022</td>\n",
       "      <td>0</td>\n",
       "    </tr>\n",
       "  </tbody>\n",
       "</table>\n",
       "<p>5 rows × 31 columns</p>\n",
       "</div>"
      ],
      "text/plain": [
       "         0        1        2         3         4        5        6        7  \\\n",
       "0  0.10110  0.20840  0.30100  0.272740  0.944000  0.72481  0.55207  0.27104   \n",
       "1  0.90539  0.54122  0.78925  0.285160  0.104320  0.36006  0.37076  0.39752   \n",
       "2  0.26470  0.43878  0.45722  0.375700  0.936200  0.36738  0.91309  0.70503   \n",
       "3  0.28563  0.79135  0.79968  0.249590  0.298640  0.39132  0.55850  0.86992   \n",
       "4  0.12645  0.32377  0.88293  0.031443  0.084051  0.57219  0.78280  0.77925   \n",
       "\n",
       "         8        9  ...       21       22       23       24       25  \\\n",
       "0  0.75414  0.73615  ...  0.49834  0.88032  0.61130  0.33137  0.89813   \n",
       "1  0.37923  0.13958  ...  0.47186  0.20421  0.74600  0.24523  0.31252   \n",
       "2  0.69002  0.89619  ...  0.53375  0.72473  0.25437  0.57744  0.62609   \n",
       "3  0.69891  0.63053  ...  0.91439  0.30777  0.16380  0.27347  0.65232   \n",
       "4  0.65761  0.34458  ...  0.83645  0.39714  0.66414  0.52654  0.63440   \n",
       "\n",
       "        26       27       28       29  labels  \n",
       "0  0.12584  0.11701  0.65347  0.39097       1  \n",
       "1  0.47505  0.42016  0.63939  0.59022       1  \n",
       "2  0.41275  0.48173  0.18927  0.70841       0  \n",
       "3  0.87682  0.51585  0.11286  0.52895       0  \n",
       "4  0.62432  0.39543  0.18541  0.49022       0  \n",
       "\n",
       "[5 rows x 31 columns]"
      ]
     },
     "execution_count": 110,
     "metadata": {},
     "output_type": "execute_result"
    }
   ],
   "source": [
    "encod_cov_lab.head(5)"
   ]
  },
  {
   "cell_type": "markdown",
   "metadata": {},
   "source": [
    "## Décodage des données"
   ]
  },
  {
   "cell_type": "code",
   "execution_count": 51,
   "metadata": {
    "colab": {
     "base_uri": "https://localhost:8080/",
     "height": 562
    },
    "colab_type": "code",
    "id": "4E43RhFBnMCr",
    "outputId": "51460d26-8394-4ddb-c30a-f928b9938dc7"
   },
   "outputs": [
    {
     "data": {
      "text/plain": [
       "AutoEncoder(\n",
       "  (encoder): Encoder(\n",
       "    (e0): AutoBlock(\n",
       "      (linear): Linear(in_features=95, out_features=60, bias=True)\n",
       "      (drop): Dropout(p=0.4)\n",
       "    )\n",
       "    (e1): AutoBlock(\n",
       "      (linear): Linear(in_features=60, out_features=30, bias=True)\n",
       "      (drop): Dropout(p=0.25)\n",
       "    )\n",
       "  )\n",
       "  (decoder): Encoder(\n",
       "    (e0): AutoBlock(\n",
       "      (linear): Linear(in_features=30, out_features=20, bias=True)\n",
       "      (drop): Dropout(p=0.4)\n",
       "    )\n",
       "    (e1): AutoBlock(\n",
       "      (linear): Linear(in_features=20, out_features=60, bias=True)\n",
       "      (drop): Dropout(p=0.25)\n",
       "    )\n",
       "    (e2): AutoBlock(\n",
       "      (linear): Linear(in_features=60, out_features=95, bias=True)\n",
       "      (drop): Dropout(p=0)\n",
       "    )\n",
       "  )\n",
       ")"
      ]
     },
     "execution_count": 51,
     "metadata": {},
     "output_type": "execute_result"
    }
   ],
   "source": [
    "# récupérer les données décodées\n",
    "model.eval()\n",
    "decoded_data = model.decode(encoded_data.float())\n",
    "model.train()"
   ]
  },
  {
   "cell_type": "code",
   "execution_count": 52,
   "metadata": {
    "colab": {
     "base_uri": "https://localhost:8080/",
     "height": 253
    },
    "colab_type": "code",
    "id": "u1lv1OOMeJgj",
    "outputId": "b38d0219-3f8a-4afc-d8c8-8441e5a9cb76"
   },
   "outputs": [
    {
     "data": {
      "text/plain": [
       "tensor([[0.0000, 0.0971, 0.2132,  ..., 0.0000, 0.0000, 0.9998],\n",
       "        [0.1437, 0.2578, 0.2101,  ..., 0.0000, 0.0000, 1.0001],\n",
       "        [0.2041, 0.1993, 0.1721,  ..., 0.0000, 0.0000, 1.0001],\n",
       "        ...,\n",
       "        [0.2158, 0.2966, 0.1573,  ..., 0.0000, 0.0000, 1.0002],\n",
       "        [0.1014, 0.2155, 0.2109,  ..., 0.0000, 0.0000, 1.0001],\n",
       "        [0.8942, 0.0000, 0.0000,  ..., 0.0000, 0.0000, 0.9995]],\n",
       "       grad_fn=<ReluBackward0>)"
      ]
     },
     "execution_count": 52,
     "metadata": {},
     "output_type": "execute_result"
    }
   ],
   "source": [
    "decoded_data"
   ]
  },
  {
   "cell_type": "code",
   "execution_count": 181,
   "metadata": {
    "colab": {},
    "colab_type": "code",
    "id": "uzMmZ5qVuENZ"
   },
   "outputs": [
    {
     "data": {
      "text/html": [
       "<div>\n",
       "<style scoped>\n",
       "    .dataframe tbody tr th:only-of-type {\n",
       "        vertical-align: middle;\n",
       "    }\n",
       "\n",
       "    .dataframe tbody tr th {\n",
       "        vertical-align: top;\n",
       "    }\n",
       "\n",
       "    .dataframe thead th {\n",
       "        text-align: right;\n",
       "    }\n",
       "</style>\n",
       "<table border=\"1\" class=\"dataframe\">\n",
       "  <thead>\n",
       "    <tr style=\"text-align: right;\">\n",
       "      <th></th>\n",
       "    </tr>\n",
       "  </thead>\n",
       "  <tbody>\n",
       "  </tbody>\n",
       "</table>\n",
       "</div>"
      ],
      "text/plain": [
       "Empty DataFrame\n",
       "Columns: []\n",
       "Index: []"
      ]
     },
     "execution_count": 181,
     "metadata": {},
     "output_type": "execute_result"
    }
   ],
   "source": [
    "arr2 = decoded_data.data.cpu().numpy()\n",
    "# write CSV\n",
    "pd.DataFrame(np.savetxt('decodedata.csv',arr2, delimiter=',',fmt='%1.1e'))"
   ]
  },
  {
   "cell_type": "code",
   "execution_count": 146,
   "metadata": {
    "colab": {},
    "colab_type": "code",
    "id": "hx99SJ9FuEQ1"
   },
   "outputs": [],
   "source": [
    "decoded_cov = decoded_data.detach().numpy()\n",
    "decoded_cov = pd.DataFrame(decoded_cov)"
   ]
  },
  {
   "cell_type": "code",
   "execution_count": 147,
   "metadata": {},
   "outputs": [
    {
     "data": {
      "text/plain": [
       "(581012, 95)"
      ]
     },
     "execution_count": 147,
     "metadata": {},
     "output_type": "execute_result"
    }
   ],
   "source": [
    "decoded_cov.shape"
   ]
  },
  {
   "cell_type": "code",
   "execution_count": 148,
   "metadata": {},
   "outputs": [
    {
     "data": {
      "text/html": [
       "<div>\n",
       "<style scoped>\n",
       "    .dataframe tbody tr th:only-of-type {\n",
       "        vertical-align: middle;\n",
       "    }\n",
       "\n",
       "    .dataframe tbody tr th {\n",
       "        vertical-align: top;\n",
       "    }\n",
       "\n",
       "    .dataframe thead th {\n",
       "        text-align: right;\n",
       "    }\n",
       "</style>\n",
       "<table border=\"1\" class=\"dataframe\">\n",
       "  <thead>\n",
       "    <tr style=\"text-align: right;\">\n",
       "      <th></th>\n",
       "      <th>0</th>\n",
       "      <th>1</th>\n",
       "      <th>2</th>\n",
       "      <th>3</th>\n",
       "      <th>4</th>\n",
       "      <th>5</th>\n",
       "      <th>6</th>\n",
       "      <th>7</th>\n",
       "      <th>8</th>\n",
       "      <th>9</th>\n",
       "      <th>...</th>\n",
       "      <th>85</th>\n",
       "      <th>86</th>\n",
       "      <th>87</th>\n",
       "      <th>88</th>\n",
       "      <th>89</th>\n",
       "      <th>90</th>\n",
       "      <th>91</th>\n",
       "      <th>92</th>\n",
       "      <th>93</th>\n",
       "      <th>94</th>\n",
       "    </tr>\n",
       "  </thead>\n",
       "  <tbody>\n",
       "    <tr>\n",
       "      <th>0</th>\n",
       "      <td>0.00000</td>\n",
       "      <td>0.181100</td>\n",
       "      <td>0.158904</td>\n",
       "      <td>0.217313</td>\n",
       "      <td>0.212287</td>\n",
       "      <td>0.000000</td>\n",
       "      <td>0.0</td>\n",
       "      <td>0.000000</td>\n",
       "      <td>0.758279</td>\n",
       "      <td>0.000000</td>\n",
       "      <td>...</td>\n",
       "      <td>0.000000</td>\n",
       "      <td>0.000000</td>\n",
       "      <td>0.000000</td>\n",
       "      <td>0.0</td>\n",
       "      <td>0.0</td>\n",
       "      <td>0.0</td>\n",
       "      <td>0.0</td>\n",
       "      <td>0.0</td>\n",
       "      <td>0.0</td>\n",
       "      <td>0.799998</td>\n",
       "    </tr>\n",
       "    <tr>\n",
       "      <th>1</th>\n",
       "      <td>0.00000</td>\n",
       "      <td>0.080130</td>\n",
       "      <td>0.547938</td>\n",
       "      <td>0.142227</td>\n",
       "      <td>0.000000</td>\n",
       "      <td>0.000000</td>\n",
       "      <td>0.0</td>\n",
       "      <td>0.000000</td>\n",
       "      <td>0.000000</td>\n",
       "      <td>0.687942</td>\n",
       "      <td>...</td>\n",
       "      <td>0.000000</td>\n",
       "      <td>0.000000</td>\n",
       "      <td>0.000000</td>\n",
       "      <td>0.0</td>\n",
       "      <td>0.0</td>\n",
       "      <td>0.0</td>\n",
       "      <td>0.0</td>\n",
       "      <td>0.0</td>\n",
       "      <td>0.0</td>\n",
       "      <td>0.800009</td>\n",
       "    </tr>\n",
       "    <tr>\n",
       "      <th>2</th>\n",
       "      <td>0.00000</td>\n",
       "      <td>0.246872</td>\n",
       "      <td>0.173428</td>\n",
       "      <td>0.176758</td>\n",
       "      <td>0.134104</td>\n",
       "      <td>0.000000</td>\n",
       "      <td>0.0</td>\n",
       "      <td>0.000000</td>\n",
       "      <td>0.000000</td>\n",
       "      <td>0.792693</td>\n",
       "      <td>...</td>\n",
       "      <td>0.110355</td>\n",
       "      <td>0.075169</td>\n",
       "      <td>0.112369</td>\n",
       "      <td>0.0</td>\n",
       "      <td>0.0</td>\n",
       "      <td>0.0</td>\n",
       "      <td>0.0</td>\n",
       "      <td>0.0</td>\n",
       "      <td>0.0</td>\n",
       "      <td>0.799999</td>\n",
       "    </tr>\n",
       "    <tr>\n",
       "      <th>3</th>\n",
       "      <td>0.00000</td>\n",
       "      <td>0.177536</td>\n",
       "      <td>0.165615</td>\n",
       "      <td>0.191247</td>\n",
       "      <td>0.245765</td>\n",
       "      <td>0.763259</td>\n",
       "      <td>0.0</td>\n",
       "      <td>0.000000</td>\n",
       "      <td>0.000000</td>\n",
       "      <td>0.000000</td>\n",
       "      <td>...</td>\n",
       "      <td>0.140828</td>\n",
       "      <td>0.187851</td>\n",
       "      <td>0.107857</td>\n",
       "      <td>0.0</td>\n",
       "      <td>0.0</td>\n",
       "      <td>0.0</td>\n",
       "      <td>0.0</td>\n",
       "      <td>0.0</td>\n",
       "      <td>0.0</td>\n",
       "      <td>0.800000</td>\n",
       "    </tr>\n",
       "    <tr>\n",
       "      <th>4</th>\n",
       "      <td>0.00000</td>\n",
       "      <td>0.115127</td>\n",
       "      <td>0.128481</td>\n",
       "      <td>0.262969</td>\n",
       "      <td>0.271259</td>\n",
       "      <td>0.000000</td>\n",
       "      <td>0.0</td>\n",
       "      <td>0.000000</td>\n",
       "      <td>0.613944</td>\n",
       "      <td>0.000000</td>\n",
       "      <td>...</td>\n",
       "      <td>0.000000</td>\n",
       "      <td>0.000000</td>\n",
       "      <td>0.000000</td>\n",
       "      <td>0.0</td>\n",
       "      <td>0.0</td>\n",
       "      <td>0.0</td>\n",
       "      <td>0.0</td>\n",
       "      <td>0.0</td>\n",
       "      <td>0.0</td>\n",
       "      <td>0.800000</td>\n",
       "    </tr>\n",
       "    <tr>\n",
       "      <th>5</th>\n",
       "      <td>0.79216</td>\n",
       "      <td>0.000000</td>\n",
       "      <td>0.000000</td>\n",
       "      <td>0.000000</td>\n",
       "      <td>0.000000</td>\n",
       "      <td>0.734493</td>\n",
       "      <td>0.0</td>\n",
       "      <td>0.000000</td>\n",
       "      <td>0.000000</td>\n",
       "      <td>0.000000</td>\n",
       "      <td>...</td>\n",
       "      <td>0.000000</td>\n",
       "      <td>0.000000</td>\n",
       "      <td>0.000000</td>\n",
       "      <td>0.0</td>\n",
       "      <td>0.0</td>\n",
       "      <td>0.0</td>\n",
       "      <td>0.0</td>\n",
       "      <td>0.0</td>\n",
       "      <td>0.0</td>\n",
       "      <td>0.799992</td>\n",
       "    </tr>\n",
       "    <tr>\n",
       "      <th>6</th>\n",
       "      <td>0.00000</td>\n",
       "      <td>0.091128</td>\n",
       "      <td>0.522800</td>\n",
       "      <td>0.109607</td>\n",
       "      <td>0.000000</td>\n",
       "      <td>0.000000</td>\n",
       "      <td>0.0</td>\n",
       "      <td>0.000000</td>\n",
       "      <td>0.797560</td>\n",
       "      <td>0.000000</td>\n",
       "      <td>...</td>\n",
       "      <td>0.000000</td>\n",
       "      <td>0.000000</td>\n",
       "      <td>0.000000</td>\n",
       "      <td>0.0</td>\n",
       "      <td>0.0</td>\n",
       "      <td>0.0</td>\n",
       "      <td>0.0</td>\n",
       "      <td>0.0</td>\n",
       "      <td>0.0</td>\n",
       "      <td>0.800007</td>\n",
       "    </tr>\n",
       "    <tr>\n",
       "      <th>7</th>\n",
       "      <td>0.00000</td>\n",
       "      <td>0.171305</td>\n",
       "      <td>0.167456</td>\n",
       "      <td>0.149872</td>\n",
       "      <td>0.288268</td>\n",
       "      <td>0.000000</td>\n",
       "      <td>0.0</td>\n",
       "      <td>0.653269</td>\n",
       "      <td>0.000000</td>\n",
       "      <td>0.000000</td>\n",
       "      <td>...</td>\n",
       "      <td>0.031644</td>\n",
       "      <td>0.187267</td>\n",
       "      <td>0.130736</td>\n",
       "      <td>0.0</td>\n",
       "      <td>0.0</td>\n",
       "      <td>0.0</td>\n",
       "      <td>0.0</td>\n",
       "      <td>0.0</td>\n",
       "      <td>0.0</td>\n",
       "      <td>0.800000</td>\n",
       "    </tr>\n",
       "    <tr>\n",
       "      <th>8</th>\n",
       "      <td>0.00000</td>\n",
       "      <td>0.147545</td>\n",
       "      <td>0.177419</td>\n",
       "      <td>0.213183</td>\n",
       "      <td>0.188293</td>\n",
       "      <td>0.731348</td>\n",
       "      <td>0.0</td>\n",
       "      <td>0.000000</td>\n",
       "      <td>0.000000</td>\n",
       "      <td>0.000000</td>\n",
       "      <td>...</td>\n",
       "      <td>0.000000</td>\n",
       "      <td>0.000000</td>\n",
       "      <td>0.000000</td>\n",
       "      <td>0.0</td>\n",
       "      <td>0.0</td>\n",
       "      <td>0.0</td>\n",
       "      <td>0.0</td>\n",
       "      <td>0.0</td>\n",
       "      <td>0.0</td>\n",
       "      <td>0.800001</td>\n",
       "    </tr>\n",
       "    <tr>\n",
       "      <th>9</th>\n",
       "      <td>0.00000</td>\n",
       "      <td>0.133435</td>\n",
       "      <td>0.153418</td>\n",
       "      <td>0.180240</td>\n",
       "      <td>0.341658</td>\n",
       "      <td>0.000000</td>\n",
       "      <td>0.0</td>\n",
       "      <td>0.710588</td>\n",
       "      <td>0.000000</td>\n",
       "      <td>0.000000</td>\n",
       "      <td>...</td>\n",
       "      <td>0.000000</td>\n",
       "      <td>0.000000</td>\n",
       "      <td>0.000000</td>\n",
       "      <td>0.0</td>\n",
       "      <td>0.0</td>\n",
       "      <td>0.0</td>\n",
       "      <td>0.0</td>\n",
       "      <td>0.0</td>\n",
       "      <td>0.0</td>\n",
       "      <td>0.800000</td>\n",
       "    </tr>\n",
       "  </tbody>\n",
       "</table>\n",
       "<p>10 rows × 95 columns</p>\n",
       "</div>"
      ],
      "text/plain": [
       "        0         1         2         3         4         5    6         7   \\\n",
       "0  0.00000  0.181100  0.158904  0.217313  0.212287  0.000000  0.0  0.000000   \n",
       "1  0.00000  0.080130  0.547938  0.142227  0.000000  0.000000  0.0  0.000000   \n",
       "2  0.00000  0.246872  0.173428  0.176758  0.134104  0.000000  0.0  0.000000   \n",
       "3  0.00000  0.177536  0.165615  0.191247  0.245765  0.763259  0.0  0.000000   \n",
       "4  0.00000  0.115127  0.128481  0.262969  0.271259  0.000000  0.0  0.000000   \n",
       "5  0.79216  0.000000  0.000000  0.000000  0.000000  0.734493  0.0  0.000000   \n",
       "6  0.00000  0.091128  0.522800  0.109607  0.000000  0.000000  0.0  0.000000   \n",
       "7  0.00000  0.171305  0.167456  0.149872  0.288268  0.000000  0.0  0.653269   \n",
       "8  0.00000  0.147545  0.177419  0.213183  0.188293  0.731348  0.0  0.000000   \n",
       "9  0.00000  0.133435  0.153418  0.180240  0.341658  0.000000  0.0  0.710588   \n",
       "\n",
       "         8         9   ...        85        86        87   88   89   90   91  \\\n",
       "0  0.758279  0.000000  ...  0.000000  0.000000  0.000000  0.0  0.0  0.0  0.0   \n",
       "1  0.000000  0.687942  ...  0.000000  0.000000  0.000000  0.0  0.0  0.0  0.0   \n",
       "2  0.000000  0.792693  ...  0.110355  0.075169  0.112369  0.0  0.0  0.0  0.0   \n",
       "3  0.000000  0.000000  ...  0.140828  0.187851  0.107857  0.0  0.0  0.0  0.0   \n",
       "4  0.613944  0.000000  ...  0.000000  0.000000  0.000000  0.0  0.0  0.0  0.0   \n",
       "5  0.000000  0.000000  ...  0.000000  0.000000  0.000000  0.0  0.0  0.0  0.0   \n",
       "6  0.797560  0.000000  ...  0.000000  0.000000  0.000000  0.0  0.0  0.0  0.0   \n",
       "7  0.000000  0.000000  ...  0.031644  0.187267  0.130736  0.0  0.0  0.0  0.0   \n",
       "8  0.000000  0.000000  ...  0.000000  0.000000  0.000000  0.0  0.0  0.0  0.0   \n",
       "9  0.000000  0.000000  ...  0.000000  0.000000  0.000000  0.0  0.0  0.0  0.0   \n",
       "\n",
       "    92   93        94  \n",
       "0  0.0  0.0  0.799998  \n",
       "1  0.0  0.0  0.800009  \n",
       "2  0.0  0.0  0.799999  \n",
       "3  0.0  0.0  0.800000  \n",
       "4  0.0  0.0  0.800000  \n",
       "5  0.0  0.0  0.799992  \n",
       "6  0.0  0.0  0.800007  \n",
       "7  0.0  0.0  0.800000  \n",
       "8  0.0  0.0  0.800001  \n",
       "9  0.0  0.0  0.800000  \n",
       "\n",
       "[10 rows x 95 columns]"
      ]
     },
     "execution_count": 148,
     "metadata": {},
     "output_type": "execute_result"
    }
   ],
   "source": [
    "decoded_cov.head(10)"
   ]
  },
  {
   "cell_type": "code",
   "execution_count": 154,
   "metadata": {},
   "outputs": [
    {
     "data": {
      "text/html": [
       "<div>\n",
       "<style scoped>\n",
       "    .dataframe tbody tr th:only-of-type {\n",
       "        vertical-align: middle;\n",
       "    }\n",
       "\n",
       "    .dataframe tbody tr th {\n",
       "        vertical-align: top;\n",
       "    }\n",
       "\n",
       "    .dataframe thead th {\n",
       "        text-align: right;\n",
       "    }\n",
       "</style>\n",
       "<table border=\"1\" class=\"dataframe\">\n",
       "  <thead>\n",
       "    <tr style=\"text-align: right;\">\n",
       "      <th></th>\n",
       "      <th>0</th>\n",
       "      <th>1</th>\n",
       "      <th>2</th>\n",
       "      <th>3</th>\n",
       "      <th>4</th>\n",
       "      <th>5</th>\n",
       "      <th>6</th>\n",
       "      <th>7</th>\n",
       "      <th>8</th>\n",
       "      <th>9</th>\n",
       "      <th>...</th>\n",
       "      <th>86</th>\n",
       "      <th>87</th>\n",
       "      <th>88</th>\n",
       "      <th>89</th>\n",
       "      <th>90</th>\n",
       "      <th>91</th>\n",
       "      <th>92</th>\n",
       "      <th>93</th>\n",
       "      <th>94</th>\n",
       "      <th>labels</th>\n",
       "    </tr>\n",
       "  </thead>\n",
       "  <tbody>\n",
       "    <tr>\n",
       "      <th>0</th>\n",
       "      <td>0.0</td>\n",
       "      <td>0.181100</td>\n",
       "      <td>0.158904</td>\n",
       "      <td>0.217313</td>\n",
       "      <td>0.212287</td>\n",
       "      <td>0.000000</td>\n",
       "      <td>0.0</td>\n",
       "      <td>0.0</td>\n",
       "      <td>0.758279</td>\n",
       "      <td>0.000000</td>\n",
       "      <td>...</td>\n",
       "      <td>0.000000</td>\n",
       "      <td>0.000000</td>\n",
       "      <td>0.0</td>\n",
       "      <td>0.0</td>\n",
       "      <td>0.0</td>\n",
       "      <td>0.0</td>\n",
       "      <td>0.0</td>\n",
       "      <td>0.0</td>\n",
       "      <td>0.799998</td>\n",
       "      <td>0</td>\n",
       "    </tr>\n",
       "    <tr>\n",
       "      <th>1</th>\n",
       "      <td>0.0</td>\n",
       "      <td>0.080130</td>\n",
       "      <td>0.547938</td>\n",
       "      <td>0.142227</td>\n",
       "      <td>0.000000</td>\n",
       "      <td>0.000000</td>\n",
       "      <td>0.0</td>\n",
       "      <td>0.0</td>\n",
       "      <td>0.000000</td>\n",
       "      <td>0.687942</td>\n",
       "      <td>...</td>\n",
       "      <td>0.000000</td>\n",
       "      <td>0.000000</td>\n",
       "      <td>0.0</td>\n",
       "      <td>0.0</td>\n",
       "      <td>0.0</td>\n",
       "      <td>0.0</td>\n",
       "      <td>0.0</td>\n",
       "      <td>0.0</td>\n",
       "      <td>0.800009</td>\n",
       "      <td>1</td>\n",
       "    </tr>\n",
       "    <tr>\n",
       "      <th>2</th>\n",
       "      <td>0.0</td>\n",
       "      <td>0.246872</td>\n",
       "      <td>0.173428</td>\n",
       "      <td>0.176758</td>\n",
       "      <td>0.134104</td>\n",
       "      <td>0.000000</td>\n",
       "      <td>0.0</td>\n",
       "      <td>0.0</td>\n",
       "      <td>0.000000</td>\n",
       "      <td>0.792693</td>\n",
       "      <td>...</td>\n",
       "      <td>0.075169</td>\n",
       "      <td>0.112369</td>\n",
       "      <td>0.0</td>\n",
       "      <td>0.0</td>\n",
       "      <td>0.0</td>\n",
       "      <td>0.0</td>\n",
       "      <td>0.0</td>\n",
       "      <td>0.0</td>\n",
       "      <td>0.799999</td>\n",
       "      <td>1</td>\n",
       "    </tr>\n",
       "    <tr>\n",
       "      <th>3</th>\n",
       "      <td>0.0</td>\n",
       "      <td>0.177536</td>\n",
       "      <td>0.165615</td>\n",
       "      <td>0.191247</td>\n",
       "      <td>0.245765</td>\n",
       "      <td>0.763259</td>\n",
       "      <td>0.0</td>\n",
       "      <td>0.0</td>\n",
       "      <td>0.000000</td>\n",
       "      <td>0.000000</td>\n",
       "      <td>...</td>\n",
       "      <td>0.187851</td>\n",
       "      <td>0.107857</td>\n",
       "      <td>0.0</td>\n",
       "      <td>0.0</td>\n",
       "      <td>0.0</td>\n",
       "      <td>0.0</td>\n",
       "      <td>0.0</td>\n",
       "      <td>0.0</td>\n",
       "      <td>0.800000</td>\n",
       "      <td>0</td>\n",
       "    </tr>\n",
       "    <tr>\n",
       "      <th>4</th>\n",
       "      <td>0.0</td>\n",
       "      <td>0.115127</td>\n",
       "      <td>0.128481</td>\n",
       "      <td>0.262969</td>\n",
       "      <td>0.271259</td>\n",
       "      <td>0.000000</td>\n",
       "      <td>0.0</td>\n",
       "      <td>0.0</td>\n",
       "      <td>0.613944</td>\n",
       "      <td>0.000000</td>\n",
       "      <td>...</td>\n",
       "      <td>0.000000</td>\n",
       "      <td>0.000000</td>\n",
       "      <td>0.0</td>\n",
       "      <td>0.0</td>\n",
       "      <td>0.0</td>\n",
       "      <td>0.0</td>\n",
       "      <td>0.0</td>\n",
       "      <td>0.0</td>\n",
       "      <td>0.800000</td>\n",
       "      <td>1</td>\n",
       "    </tr>\n",
       "  </tbody>\n",
       "</table>\n",
       "<p>5 rows × 96 columns</p>\n",
       "</div>"
      ],
      "text/plain": [
       "     0         1         2         3         4         5    6    7         8  \\\n",
       "0  0.0  0.181100  0.158904  0.217313  0.212287  0.000000  0.0  0.0  0.758279   \n",
       "1  0.0  0.080130  0.547938  0.142227  0.000000  0.000000  0.0  0.0  0.000000   \n",
       "2  0.0  0.246872  0.173428  0.176758  0.134104  0.000000  0.0  0.0  0.000000   \n",
       "3  0.0  0.177536  0.165615  0.191247  0.245765  0.763259  0.0  0.0  0.000000   \n",
       "4  0.0  0.115127  0.128481  0.262969  0.271259  0.000000  0.0  0.0  0.613944   \n",
       "\n",
       "          9  ...        86        87   88   89   90   91   92   93        94  \\\n",
       "0  0.000000  ...  0.000000  0.000000  0.0  0.0  0.0  0.0  0.0  0.0  0.799998   \n",
       "1  0.687942  ...  0.000000  0.000000  0.0  0.0  0.0  0.0  0.0  0.0  0.800009   \n",
       "2  0.792693  ...  0.075169  0.112369  0.0  0.0  0.0  0.0  0.0  0.0  0.799999   \n",
       "3  0.000000  ...  0.187851  0.107857  0.0  0.0  0.0  0.0  0.0  0.0  0.800000   \n",
       "4  0.000000  ...  0.000000  0.000000  0.0  0.0  0.0  0.0  0.0  0.0  0.800000   \n",
       "\n",
       "   labels  \n",
       "0       0  \n",
       "1       1  \n",
       "2       1  \n",
       "3       0  \n",
       "4       1  \n",
       "\n",
       "[5 rows x 96 columns]"
      ]
     },
     "execution_count": 154,
     "metadata": {},
     "output_type": "execute_result"
    }
   ],
   "source": [
    "decoded_cov_lab.head()"
   ]
  },
  {
   "cell_type": "code",
   "execution_count": 155,
   "metadata": {},
   "outputs": [],
   "source": [
    "decoded_cov_lab.to_csv('decoded_cov_lab.csv',sep=';', encoding='utf-8')\n"
   ]
  }
 ],
 "metadata": {
  "accelerator": "GPU",
  "colab": {
   "collapsed_sections": [],
   "name": "Copie de torchautoencodeur.ipynb",
   "provenance": [],
   "version": "0.3.2"
  },
  "kernelspec": {
   "display_name": "Python 3",
   "language": "python",
   "name": "python3"
  },
  "language_info": {
   "codemirror_mode": {
    "name": "ipython",
    "version": 3
   },
   "file_extension": ".py",
   "mimetype": "text/x-python",
   "name": "python",
   "nbconvert_exporter": "python",
   "pygments_lexer": "ipython3",
   "version": "3.6.8"
  }
 },
 "nbformat": 4,
 "nbformat_minor": 2
}
